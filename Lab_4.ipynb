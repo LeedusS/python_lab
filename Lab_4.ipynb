{
  "nbformat": 4,
  "nbformat_minor": 0,
  "metadata": {
    "colab": {
      "provenance": [],
      "include_colab_link": true
    },
    "kernelspec": {
      "name": "python3",
      "display_name": "Python 3"
    },
    "language_info": {
      "name": "python"
    }
  },
  "cells": [
    {
      "cell_type": "markdown",
      "metadata": {
        "id": "view-in-github",
        "colab_type": "text"
      },
      "source": [
        "<a href=\"https://colab.research.google.com/github/LeedusS/python_lab/blob/main/Lab_4.ipynb\" target=\"_parent\"><img src=\"https://colab.research.google.com/assets/colab-badge.svg\" alt=\"Open In Colab\"/></a>"
      ]
    },
    {
      "cell_type": "markdown",
      "source": [
        "4.1 2520 คือ ตัวเลขที่น้อยที่สุด ที่สามารถหารด้วยตัวเลขทุกตัวตั้งแต่ 1-10 จงหาจำนวนเต็มบวกที่น้อยที่สุดที่หารด้วยตัวเลขทุกตัวตั้งแต่ 1-20\n",
        "\n",
        "15 = 360360\n",
        "\n",
        "20 = 232792560\n",
        "\n",
        "ปล. ห้าม import math"
      ],
      "metadata": {
        "id": "-bpz7hteQPdz"
      }
    },
    {
      "cell_type": "code",
      "execution_count": 1,
      "metadata": {
        "id": "HSZUXcF2QMVn",
        "colab": {
          "base_uri": "https://localhost:8080/"
        },
        "outputId": "4698bb69-4f0a-4646-9aa6-cf27b5f36bac"
      },
      "outputs": [
        {
          "output_type": "stream",
          "name": "stdout",
          "text": [
            "20 = 232792560\n"
          ]
        }
      ],
      "source": [
        "n = 20\n",
        "x = 1\n",
        "\n",
        "num = 0\n",
        "\n",
        "while num == 0:\n",
        "  for i in range(n, 1, -1):\n",
        "    if x % i != 0:\n",
        "      num = 0\n",
        "      break\n",
        "    num = x\n",
        "\n",
        "  x += 1\n",
        "\n",
        "print(f\"{n} =\", num)"
      ]
    },
    {
      "cell_type": "markdown",
      "source": [
        "4.2 จำนวนเฉพาะ (Prime Number) คือตัวเลขที่มีแต่ 1 กับตัวมันเองที่หารลงตัว โดยจำนวนเฉพาะ 6 ตัวแรกคือ 2, 3, 5, 7, 11, 13 โดยจำนวนเฉพาะตัวที่ 6 คือ 13 จงหาจำนวนเฉพาะตัวที่ 101\n",
        "\n",
        "=> 547"
      ],
      "metadata": {
        "id": "Wq1EFYHUWNOA"
      }
    },
    {
      "cell_type": "code",
      "source": [
        "n = 2\n",
        "count_divide = 0\n",
        "list_of_prime_number = [] #ลิสต์เก็บค่าตัวเลขเฉพาะ\n",
        "\n",
        "\n",
        "while len(list_of_prime_number) <= 101: #ลูปเงื่อนไขว่า ถ้าลิสต์ค่าตัวเลขเฉพาะนั้นยังไม่ถึง\"ตำแหน่ง\"ที่ 101\n",
        "  count_divide = 0 #ตัวแปรเก็บค่าการหาร\n",
        "\n",
        "  for i in range(n+1): #ลูปเงื่อนไขว่า ถ้า i ใน n+1\n",
        "    if i != 0 and n % i == 0: #ถ้า i ไม่เท่ากับ 0 และ n หารกับ i ต้องเท่ากับ 0\n",
        "      count_divide += 1 #ให้ตัวแปรเก็บค่าการหารนั้น +1\n",
        "    if count_divide > 2: #ถ้า ตัวแปรที่เก็บนั้นน้อยกว่า 2 ให้เบรกลูป\n",
        "      break\n",
        "\n",
        "  if count_divide == 2: #ถ้า ตัวแปรเก็บ\n",
        "    list_of_prime_number.append(n)\n",
        "  n += 1\n",
        "\n",
        "print(\"=>\", list_of_prime_number[100])\n",
        ""
      ],
      "metadata": {
        "colab": {
          "base_uri": "https://localhost:8080/"
        },
        "id": "cpMa6Vp0Vz_L",
        "outputId": "99cbbf31-9200-40e3-fbc4-e8c02d13e656"
      },
      "execution_count": 2,
      "outputs": [
        {
          "output_type": "stream",
          "name": "stdout",
          "text": [
            "=> 547\n"
          ]
        }
      ]
    },
    {
      "cell_type": "markdown",
      "source": [
        "1.\tกำหนดให้มี List หนึ่งประกอบด้วยตัวเลขจำนวนหนึ่ง และ ให้รับตัวเลขจำนวน 1 จำนวน จากนั้นให้หาว่าใน List มีตัวเลข 2 จำนวนใดที่บวกกันเท่ากับตัวเลขที่รับมา ให้แสดงคำตอบเป็น List เช่น Output: [0,1] โดยอาจมีมากกว่า 1 คำตอบ\n",
        "\n",
        "ตัวอย่าง list : [2, 7, 11, 15]\n",
        "\n",
        "Input : 9\n",
        "\n",
        "Output : 2 + 7 = 9 (ถ้าไม่มีให้บอก None)\n"
      ],
      "metadata": {
        "id": "-pUpw-m_WqFG"
      }
    },
    {
      "cell_type": "code",
      "source": [
        "lst = [2, 7, 11, 15]\n",
        "x = int(input())\n",
        "for i in range(len(lst)):\n",
        "  for j in range(len(lst)):\n",
        "    if lst[i] + lst[j] == x:\n",
        "      print(lst[i], lst[j])\n",
        "    else:\n",
        "      print(None)"
      ],
      "metadata": {
        "id": "s3djwBi4ks1g",
        "outputId": "0c8d9874-1705-4ca2-a031-7f86416a02fe",
        "colab": {
          "base_uri": "https://localhost:8080/"
        }
      },
      "execution_count": null,
      "outputs": [
        {
          "output_type": "stream",
          "name": "stdout",
          "text": [
            "9\n",
            "2 7\n",
            "7 2\n"
          ]
        }
      ]
    },
    {
      "cell_type": "markdown",
      "source": [
        "2.\tให้เขียนโปรแกรมรับข้อมูล 1 บรรทัด ประกอบด้วยตัวเลข 1 หลัก จำนวนไม่เกิน 10 ตัว คั่นด้วยช่องว่าง จากนั้นให้นำตัวเลขที่รับเข้ามาเรียงกัน และหาลำดับการเรียงที่ทำให้มีค่าน้อยที่สุด โดยต้องไม่ขึ้นต้นด้วย 0\n",
        "\n",
        "Input : 9 4 6 2  \n",
        "\n",
        "คำตอบ 2469\n",
        "\n",
        "Input : 3 0 8 1 3 3\n",
        "\n",
        "คำตอบ : 103338\n"
      ],
      "metadata": {
        "id": "_3yLG291lSFy"
      }
    },
    {
      "cell_type": "code",
      "source": [
        "x = input()\n",
        "x = x.split()\n",
        "x.sort(reverse=True)\n",
        "print(''.join(x))"
      ],
      "metadata": {
        "id": "ACtXvMEyli0L",
        "outputId": "71c6af00-1359-41f8-b5b6-5afb92c8753a",
        "colab": {
          "base_uri": "https://localhost:8080/"
        }
      },
      "execution_count": null,
      "outputs": [
        {
          "output_type": "stream",
          "name": "stdout",
          "text": [
            "3 0 8 1 3 3\n",
            "833310\n"
          ]
        }
      ]
    },
    {
      "cell_type": "markdown",
      "source": [
        "3.\tจากตัวเลขต่อไปนี้ ตัวเลขติดกัน 4 ตัวที่เมื่อนำมาคูณกันแล้วมีค่ามากที่สุดคือ 9 × 9 × 8 × 9 = 5832\n",
        "\n",
        "73167176531330624919225119674426574742355349194934\n",
        "96983520312774506326239578318016984801869478851843\n",
        "85861560789112949495459501737958331952853208805511\n",
        "12540698747158523863050715693290963295227443043557\n",
        "66896648950445244523161731856403098711121722383113\n",
        "62229893423380308135336276614282806444486645238749\n",
        "30358907296290491560440772390713810515859307960866\n",
        "70172427121883998797908792274921901699720888093776\n",
        "65727333001053367881220235421809751254540594752243\n",
        "52584907711670556013604839586446706324415722155397\n",
        "53697817977846174064955149290862569321978468622482\n",
        "83972241375657056057490261407972968652414535100474\n",
        "82166370484403199890008895243450658541227588666881\n",
        "16427171479924442928230863465674813919123162824586\n",
        "17866458359124566529476545682848912883142607690042\n",
        "24219022671055626321111109370544217506941658960408\n",
        "07198403850962455444362981230987879927244284909188\n",
        "84580156166097919133875499200524063689912560717606\n",
        "05886116467109405077541002256983155200055935729725\n",
        "71636269561882670428252483600823257530420752963450\n",
        "\n",
        "จงหาเลขติดกัน 8 ตัวที่เมื่อนำมาคูณกันแล้วมีค่ามากที่สุด และเป็นเลขอะไร ผลคูณเท่ากับเท่าไร\n",
        "\n",
        "The maximum product is: 7838208\n",
        "The digits are: 88399879\n",
        "\n",
        "\n",
        "\n"
      ],
      "metadata": {
        "id": "Gv8aIY7dliSY"
      }
    },
    {
      "cell_type": "code",
      "source": [
        "number = \"\"\"73167176531330624919225119674426574742355349194934\n",
        "96983520312774506326239578318016984801869478851843\n",
        "85861560789112949495459501737958331952853208805511\n",
        "12540698747158523863050715693290963295227443043557\n",
        "66896648950445244523161731856403098711121722383113\n",
        "62229893423380308135336276614282806444486645238749\n",
        "30358907296290491560440772390713810515859307960866\n",
        "70172427121883998797908792274921901699720888093776\n",
        "65727333001053367881220235421809751254540594752243\n",
        "52584907711670556013604839586446706324415722155397\n",
        "53697817977846174064955149290862569321978468622482\n",
        "83972241375657056057490261407972968652414535100474\n",
        "82166370484403199890008895243450658541227588666881\n",
        "16427171479924442928230863465674813919123162824586\n",
        "17866458359124566529476545682848912883142607690042\n",
        "24219022671055626321111109370544217506941658960408\n",
        "07198403850962455444362981230987879927244284909188\n",
        "84580156166097919133875499200524063689912560717606\n",
        "05886116467109405077541002256983155200055935729725\n",
        "71636269561882670428252483600823257530420752963450\"\"\"\n",
        "\n",
        "n = 8\n",
        "\n",
        "raw_num_as_string = str(number).replace('\\n','')\n",
        "len_of_raw_string = len(raw_num_as_string)\n",
        "max_of_number = 0\n",
        "max_of_sum = 0\n",
        "\n",
        "i=0\n",
        "\n",
        "while i+n < len_of_raw_string:\n",
        "  sum = 1\n",
        "  numbers = raw_num_as_string[i:i+n]\n",
        "  for j in numbers:\n",
        "    sum *= int(j)\n",
        "\n",
        "  if sum > max_of_sum:\n",
        "    max_of_number = numbers\n",
        "    max_of_sum = sum\n",
        "\n",
        "  i+=1\n",
        "\n",
        "print(f\"The maximum product is: {max_of_sum} The digits are: {max_of_number}\")\n",
        ""
      ],
      "metadata": {
        "id": "wvVqGMknmBu5",
        "colab": {
          "base_uri": "https://localhost:8080/"
        },
        "outputId": "00af533e-0d0f-4cd1-92ea-72538b49b318"
      },
      "execution_count": 3,
      "outputs": [
        {
          "output_type": "stream",
          "name": "stdout",
          "text": [
            "The maximum product is: 7838208 The digits are: 88399879\n"
          ]
        }
      ]
    },
    {
      "cell_type": "markdown",
      "source": [
        "4.\tตัวเลข palindrome คือตัวเลขที่อ่านได้ทั้ง 2 ทาง แล้วมีค่าเท่ากัน เช่น 9009 โดย 9009 คือ palindrome ที่เกิดจากการคูณของตัวเลข 2 หลักที่มากที่สุด คือ 91x99 จงหา palindrome ที่มากที่สุดของตัวเลข 3 หลัก\n",
        "\n",
        "The largest palindrome product of 3-digit numbers is: 906609\n"
      ],
      "metadata": {
        "id": "fjy5LNC7m0We"
      }
    },
    {
      "cell_type": "code",
      "source": [
        "n = int(input())\n",
        "\n",
        "max_of_i = 0\n",
        "max_of_j = 0\n",
        "max_num = 0\n",
        "\n",
        "pattern = 2\n",
        "\n",
        "while pattern <= n:\n",
        "  temp_n = pattern\n",
        "  for i in range(int(\"9\"*temp_n), (int(\"9\"*temp_n)+1) // 10, -1):\n",
        "    for j in range(int(\"9\"*temp_n), (int(\"9\"*temp_n)+1) // 10, -1):\n",
        "      if (i+j) < (max_of_i+max_of_j):\n",
        "        break\n",
        "\n",
        "      is_palin = str(i*j) == str(i*j)[::-1]\n",
        "\n",
        "      if is_palin and (i*j > max_num):\n",
        "        if (i > max_of_i or j > max_of_j):\n",
        "          max_of_i = i\n",
        "          max_of_j = j\n",
        "          max_num = i*j\n",
        "\n",
        "  print(f\"The largest palindrome product of {pattern}-digit numbers is:\" , max_of_i*max_of_j)\n",
        "  pattern += 1"
      ],
      "metadata": {
        "id": "y-QY3hzVmsud",
        "colab": {
          "base_uri": "https://localhost:8080/"
        },
        "outputId": "4a1548f7-da48-4957-a94b-dadafc873c8b"
      },
      "execution_count": 4,
      "outputs": [
        {
          "output_type": "stream",
          "name": "stdout",
          "text": [
            "3\n",
            "The largest palindrome product of 2-digit numbers is: 9009\n",
            "The largest palindrome product of 3-digit numbers is: 906609\n"
          ]
        }
      ]
    },
    {
      "cell_type": "markdown",
      "source": [
        "5.\tกำหนดให้ string มีเพียงสัญลักษณ์ '(', ')', '{', '}', '[' และ ']' ให้ตรวจสอบว่า String ถูกต้อง โดย เมื่อมีวงเล็บเปิด จะต้องมีวงเล็บปิดที่เป็นชนิดเดียวกัน จำนวนเท่ากันที่เป็นคู่ของมัน\n",
        "\n",
        "```\n",
        "Input: s = \"()\"\n",
        "Output: true\n",
        "Input: s = \"()[]{}\"\n",
        "Output: true\n",
        "Input: s = \"[()]{}\"\n",
        "Output: true\n",
        "Input: s = \"(]\"\n",
        "Output: false\n",
        "```\n",
        "\n",
        "\n"
      ],
      "metadata": {
        "id": "rUZvLJ-JnGJY"
      }
    },
    {
      "cell_type": "code",
      "source": [
        "sign = ['(', ')', '{', '}', '[',']' ]\n",
        "s = input(\"Enter Sign : \")\n",
        "s_logic = True\n",
        "\n",
        "for i in s:\n",
        "    if i not in sign:\n",
        "        s_logic = False\n",
        "        break\n",
        "\n",
        "if s_logic:\n",
        "    count1 = s.count(\"(\")\n",
        "    count2 = s.count(\")\")\n",
        "    count3 = s.count(\"{\")\n",
        "    count4 = s.count(\"}\")\n",
        "    count5 = s.count(\"[\")\n",
        "    count6 = s.count(\"]\")\n",
        "\n",
        "    if count1 == count2 and count3 == count4 and count5 and count6 :\n",
        "        print(\"True\")\n",
        "    else:\n",
        "        print(\"False\")\n",
        "\n",
        "else:\n",
        "    print(\"Error\")"
      ],
      "metadata": {
        "id": "Ku8ts4x7nk1y",
        "colab": {
          "base_uri": "https://localhost:8080/"
        },
        "outputId": "f8534c14-9cad-49d0-c30f-c5470386691d"
      },
      "execution_count": 8,
      "outputs": [
        {
          "output_type": "stream",
          "name": "stdout",
          "text": [
            "Enter Sign : [()]{}\n",
            "True\n"
          ]
        }
      ]
    },
    {
      "cell_type": "markdown",
      "source": [
        "6.\tกำหนดให้รับข้อมูล Integer (เป็นบวกหรือลบก็ได้) จากนั้นให้แสดงผลลัพธ์ที่ reverse ตัวเลขตามตัวอย่าง\n",
        "\n",
        "```\n",
        "Input: x = 123\n",
        "Output: 321\n",
        "Input: x = -123\n",
        "Output: -321\n",
        "Input: x = 120\n",
        "Output: 21\n",
        "```\n",
        "\n"
      ],
      "metadata": {
        "id": "PLL9Wdqqnx7o"
      }
    },
    {
      "cell_type": "code",
      "source": [
        "x = int(input())\n",
        "x = str(x)\n",
        "if x[0] == '-':\n",
        "  y = ('-' + x[1:][::-1])\n",
        "  y = int(y)\n",
        "  print(y)\n",
        "else:\n",
        "  y = x[::-1]\n",
        "  y = int(y)\n",
        "  print(y)"
      ],
      "metadata": {
        "id": "WFZMZZglhyq2",
        "outputId": "3629a013-9e4b-4f82-a1ab-00150db7f4ea",
        "colab": {
          "base_uri": "https://localhost:8080/"
        }
      },
      "execution_count": null,
      "outputs": [
        {
          "output_type": "stream",
          "name": "stdout",
          "text": [
            "120\n",
            "21\n"
          ]
        }
      ]
    },
    {
      "cell_type": "markdown",
      "source": [
        "7.\tเขียนโปรแกรมเพื่อแสดงปิรามิดบนจอภาพ โดยแสดงเป็นรูปสี่เหลี่ยม ตัวเลขเริ่มจาก 0  และเพิ่มค่าตามลําดับจํานวนขั้น จาก 0 ถึง N (รับค่า N จากคีย์บอร์ด) ค่าของ N อยู่ระหว่าง 0-9 ดังตัวอย่าง\n",
        "\n",
        "\n",
        "```\n",
        "\t\t\t\t\t\t\t\t\t         0000000\n",
        "\t\t\t\t\t\t\t    00000\t\t0111110\n",
        "\t\t\t\t\t000\t\t 01110\t\t0122210\n",
        "\t\t\t0\t\t010\t\t01210\t\t0123210\n",
        "\t\t\t\t\t000\t\t 01110\t\t0122210\n",
        "\t\t\t\t\t\t\t    00000\t\t0111110\n",
        "\t\t\t\t\t\t\t\t\t         0000000\n",
        "\n",
        "\t\t\tn=0\t\tn=1\t\tn=2\t\tn=3\n",
        "\n",
        "```\n",
        "\n"
      ],
      "metadata": {
        "id": "KboD6c8rn52a"
      }
    },
    {
      "cell_type": "code",
      "source": [
        "n = 3\n",
        "x = n * 2 + 1\n",
        "for i in range(x):\n",
        "    for j in range(x):\n",
        "        top = i\n",
        "        bottom = x - i - 1\n",
        "        left = j\n",
        "        right = x - j -1\n",
        "        y = top\n",
        "        if y > bottom:\n",
        "          y = bottom\n",
        "        if y > left:\n",
        "          y = left\n",
        "        if y > right:\n",
        "          y = right\n",
        "        print(y, end='')\n",
        "    print()"
      ],
      "metadata": {
        "id": "sGhw6Iyfobiz",
        "outputId": "f6e77275-795c-4f65-a28c-e19901d31fd7",
        "colab": {
          "base_uri": "https://localhost:8080/"
        }
      },
      "execution_count": null,
      "outputs": [
        {
          "output_type": "stream",
          "name": "stdout",
          "text": [
            "0000000\n",
            "0111110\n",
            "0122210\n",
            "0123210\n",
            "0122210\n",
            "0111110\n",
            "0000000\n"
          ]
        }
      ]
    },
    {
      "cell_type": "markdown",
      "source": [
        "8.\tเขียนโปรแกรมเพื่อแสดงปิรามิดบนจอภาพ โดยแสดงเป็นรูปสี่เหลี่ยม ตัวเลขเริ่มจาก 0  และเพิ่มค่าตามลําดับจํานวนขั้น จาก 0 ถึง N (รับค่า N จากคีย์บอร์ด) กําหนดให้จุดศูนย์กลางของรูปสี่เหลี่ยมอยู่ที่แถว 13 คอลัมน์ 40 ของจอภาพค่าของ N อยู่ระหว่าง 0-9 ดังตัวอย่าง\n",
        "\n",
        "\n",
        "\n",
        "```\n",
        "\t\t\t\t\t\t\t\t\t            0\n",
        "\t\t\t\t\t\t\t      0\t\t    010\n",
        "\t\t\t\t\t  0\t\t  010\t\t  01210\n",
        "\t\t\t0\t\t010\t\t01210\t\t0123210\n",
        "\t\t\t\t\t  0\t\t  010\t\t  01210\n",
        "\t\t\t\t\t\t\t      0\t\t    010\n",
        "\t\t\t\t\t\t\t\t\t            0\n",
        "\n",
        "\t\t\tn=0\t\tn=1\t\tn=2\t\tn=3\n",
        "\n",
        "```\n",
        "\n"
      ],
      "metadata": {
        "id": "ecRYU6Lkob6Q"
      }
    },
    {
      "cell_type": "code",
      "source": [
        "n = 3\n",
        "\n",
        "for i in range(n):\n",
        "  for j in range(n-i):\n",
        "    print(\" \", end = '')\n",
        "  for j in range(i):\n",
        "    print(j, end = '')\n",
        "  for j in range(i ,-1,-1):\n",
        "    print(j, end = '')\n",
        "  print(\"\")\n",
        "\n",
        "for i in range(n,-1,-1):\n",
        "  for j in range(n-i):\n",
        "    print(\" \", end = '')\n",
        "  for j in range(i):\n",
        "    print(j, end = '')\n",
        "  for j in range(i ,-1,-1):\n",
        "    print(j, end = '')\n",
        "  print(\"\")"
      ],
      "metadata": {
        "id": "kE196YCocbxV",
        "outputId": "d6d6da1c-7310-48b2-f307-9efa74266e13",
        "colab": {
          "base_uri": "https://localhost:8080/"
        }
      },
      "execution_count": null,
      "outputs": [
        {
          "output_type": "stream",
          "name": "stdout",
          "text": [
            "   0\n",
            "  010\n",
            " 01210\n",
            "0123210\n",
            " 01210\n",
            "  010\n",
            "   0\n"
          ]
        }
      ]
    },
    {
      "cell_type": "markdown",
      "source": [
        "9.\tให้เขียนโปรแกรมสร้างรูปสามเหลี่ยมที่วางซ้อนกัน 3 รูป โดยแต่ละรูปสร้างมาจากเครื่องหมาย \"*\" โดยกําหนดให้รับตัวเลขระดับของสามเหลี่ยมจากคีย์บอร์ด จากตัวอย่างข้างล่างนี้เป็นรูปสามเหลี่ยมระดับที่ 3 และ 4\n",
        "\n",
        "\n",
        "\n",
        "```\n",
        "              *\n",
        "\t\t     ***\n",
        "\t\t    *****\n",
        "\t\t   *     *\n",
        "\t      ***   ***\n",
        "\t     ***** *****\n",
        "\n",
        "  \t\t    *\n",
        "\t  \t   ***\n",
        "\t\t    *****\n",
        "\t\t   *******\n",
        "\t      *       *\n",
        "\t     ***     ***\n",
        "\t    *****   *****\n",
        "\t   ******* *******\n",
        "\n",
        "```\n",
        "\n"
      ],
      "metadata": {
        "id": "Po50A-Kuo5t4"
      }
    },
    {
      "cell_type": "code",
      "source": [
        "num = int(input(\"Row : \"))\n",
        "for i in range(num):\n",
        "    for j in range((num*2)-i-1):\n",
        "        print(' ',end=\"\")\n",
        "    for j in range(i+1):\n",
        "        print('*',end=\"\")\n",
        "    for j in range(i):\n",
        "        print('*',end=\"\")\n",
        "    print()\n",
        "for i in range(num):\n",
        "    for j in range(num-i-1):\n",
        "        print(' ',end=\"\")\n",
        "    for j in range(i+1):\n",
        "        print('*',end=\"\")\n",
        "    for j in range(i):\n",
        "        print('*',end=\"\")\n",
        "    for j in range(num-i):\n",
        "        print(' ',end=\"\")\n",
        "    for j in range(num-i-1):\n",
        "        print(' ',end=\"\")\n",
        "    for j in range(i+1):\n",
        "        print('*',end=\"\")\n",
        "    for j in range(i):\n",
        "        print('*',end=\"\")\n",
        "    print()"
      ],
      "metadata": {
        "id": "X2EYBW5Ef7VX",
        "outputId": "8625d1d2-9652-48e2-b0ca-974e02c02b8f",
        "colab": {
          "base_uri": "https://localhost:8080/"
        }
      },
      "execution_count": null,
      "outputs": [
        {
          "output_type": "stream",
          "name": "stdout",
          "text": [
            "Row : 4\n",
            "       *\n",
            "      ***\n",
            "     *****\n",
            "    *******\n",
            "   *       *\n",
            "  ***     ***\n",
            " *****   *****\n",
            "******* *******\n"
          ]
        }
      ]
    }
  ]
}