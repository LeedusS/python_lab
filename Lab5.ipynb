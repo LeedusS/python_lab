{
  "nbformat": 4,
  "nbformat_minor": 0,
  "metadata": {
    "colab": {
      "provenance": [],
      "include_colab_link": true
    },
    "kernelspec": {
      "name": "python3",
      "display_name": "Python 3"
    },
    "language_info": {
      "name": "python"
    }
  },
  "cells": [
    {
      "cell_type": "markdown",
      "metadata": {
        "id": "view-in-github",
        "colab_type": "text"
      },
      "source": [
        "<a href=\"https://colab.research.google.com/github/LeedusS/python_lab/blob/main/Lab5.ipynb\" target=\"_parent\"><img src=\"https://colab.research.google.com/assets/colab-badge.svg\" alt=\"Open In Colab\"/></a>"
      ]
    },
    {
      "cell_type": "markdown",
      "source": [
        "รหัสนักศึกษา : 66015170 ชื่อ : นาย อิสรา ทองคำ"
      ],
      "metadata": {
        "id": "ayuUhdui4PbN"
      }
    },
    {
      "cell_type": "markdown",
      "source": [
        "Exercise 5.1 ให้เขียน function ชื่อ day_of_year(day, month ,year) โดยมีการคืนค่า คือ day_of_years เป็นวันที่ลำดับที่เท่าใดของปีคริสตศักราช year\n",
        "ปีที่เป็น Leap Year เดือนกุมภาพันธ์จะมี 29 วัน\n",
        "ให้สร้างฟังก์ชัน is_leap เพื่อตรวจสอบ leap year แยกออกมา และให้ฟังก์ชัน day_of_year เรียกใช้ is_leap อีกที\n"
      ],
      "metadata": {
        "id": "ZXM4rXQB6Q9o"
      }
    },
    {
      "cell_type": "code",
      "source": [
        "def leap_year(year):\n",
        "    if year % 100 != 0 and year % 4 == 0:\n",
        "        return True\n",
        "    elif year % 400 == 0:\n",
        "        return True\n",
        "    else:\n",
        "       return False\n",
        "\n",
        "def day_of_year(day, month, year):\n",
        "    sum_month = 0\n",
        "    if leap_year(year) == True:\n",
        "        days_in_month = [31, 29, 31, 30, 31, 30, 31, 31, 30, 31, 30, 31]\n",
        "        for i in range(month - 1):\n",
        "            sum_month += days_in_month[i]\n",
        "        return(sum_month + day)\n",
        "\n",
        "    if leap_year(year) == False:\n",
        "        days_in_month = [31, 28, 31, 30, 31, 30, 31, 31, 30, 31, 30, 31]\n",
        "        for i in range(month - 1):\n",
        "            sum_month += days_in_month[i]\n",
        "        return(sum_month + day)\n",
        "\n",
        "print(\"Normal year (2023):\")\n",
        "print(f\"1 Jan 2023: {day_of_year(1, 1, 2023)}\")  # ควรได้ 1\n",
        "print(f\"1 Feb 2023: {day_of_year(1, 2, 2023)}\")  # ควรได้ 32\n",
        "print(f\"1 Mar 2023: {day_of_year(1, 3, 2023)}\")  # ควรได้ 60\n",
        "print(f\"31 Dec 2023: {day_of_year(31, 12, 2023)}\")  # ควรได้ 365\n",
        "\n",
        "print(\"\\nLeap year (2024):\")\n",
        "print(f\"1 Jan 2024: {day_of_year(1, 1, 2024)}\")  # ควรได้ 1\n",
        "print(f\"29 Feb 2024: {day_of_year(29, 2, 2024)}\")  # ควรได้ 60\n",
        "print(f\"1 Mar 2024: {day_of_year(1, 3, 2024)}\")  # ควรได้ 61\n",
        "print(f\"31 Dec 2024: {day_of_year(31, 12, 2024)}\")  # ควรได้ 366\n",
        "\n",
        "print(\"\\nCentury year, not a leap year (1900):\")\n",
        "print(f\"1 Mar 1900: {day_of_year(1, 3, 1900)}\")  # ควรได้ 60\n",
        "\n",
        "print(\"\\nCentury year, leap year (2000):\")\n",
        "print(f\"1 Mar 2000: {day_of_year(1, 3, 2000)}\")  # ควรได้ 61\n",
        "\n",
        "print(\"\\nMid-year dates:\")\n",
        "print(f\"15 Jun 2023: {day_of_year(15, 6, 2023)}\")  # ควรได้ 166\n",
        "print(f\"15 Jun 2024: {day_of_year(15, 6, 2024)}\")  # ควรได้ 167 (Leap year)\n",
        "\n",
        "print(\"\\nLast day of each quarter:\")\n",
        "print(f\"31 Mar 2023: {day_of_year(31, 3, 2023)}\")  # ควรได้ 90\n",
        "print(f\"30 Jun 2023: {day_of_year(30, 6, 2023)}\")  # ควรได้ 181\n",
        "print(f\"30 Sep 2023: {day_of_year(30, 9, 2023)}\")  # ควรได้ 273\n",
        "print(f\"31 Dec 2023: {day_of_year(31, 12, 2023)}\")  # ควรได้ 365"
      ],
      "metadata": {
        "id": "oerlrWw46aJZ",
        "colab": {
          "base_uri": "https://localhost:8080/"
        },
        "outputId": "d90970de-af63-4344-89fa-5bea5db55bab"
      },
      "execution_count": 1,
      "outputs": [
        {
          "output_type": "stream",
          "name": "stdout",
          "text": [
            "Normal year (2023):\n",
            "1 Jan 2023: 1\n",
            "1 Feb 2023: 32\n",
            "1 Mar 2023: 60\n",
            "31 Dec 2023: 365\n",
            "\n",
            "Leap year (2024):\n",
            "1 Jan 2024: 1\n",
            "29 Feb 2024: 60\n",
            "1 Mar 2024: 61\n",
            "31 Dec 2024: 366\n",
            "\n",
            "Century year, not a leap year (1900):\n",
            "1 Mar 1900: 60\n",
            "\n",
            "Century year, leap year (2000):\n",
            "1 Mar 2000: 61\n",
            "\n",
            "Mid-year dates:\n",
            "15 Jun 2023: 166\n",
            "15 Jun 2024: 167\n",
            "\n",
            "Last day of each quarter:\n",
            "31 Mar 2023: 90\n",
            "30 Jun 2023: 181\n",
            "30 Sep 2023: 273\n",
            "31 Dec 2023: 365\n"
          ]
        }
      ]
    },
    {
      "cell_type": "markdown",
      "source": [
        "Exercise 5.2 ให้เขียนฟังก์ชัน เพิ่มเติมเป็น date_diff\n",
        "รับข้อมูลในรูปแบบ “dd-mm-yyyy” เช่น date_diff(“1-1-2018”, “1-1-2020”) จะได้ 731 วัน date_diff(“25-12-1999”, “9-3-2000”) จะได้ 76 วัน\n",
        "ให้เขียนฟังก์ชัน day_in_year โดยจะส่งค่าจำนวนวันของปี (365 หรือ 366) โดยรับข้อมูลเป็น ปี\n",
        "ส่งคืนข้อมูลเป็นจำนวนวันตั้งแต่วันที่แรก จนถึงวันที่สอง โดยรวมทั้ง 2 วันนั้นเข้าไปด้วย\n",
        "ให้สมมติว่าวันแรก จะต้องมาก่อนวันที่สองเสมอ ดังนั้นไม่ต้องตรวจสอบ\n"
      ],
      "metadata": {
        "id": "fkkuNcAcCo-z"
      }
    },
    {
      "cell_type": "code",
      "source": [
        "def leap_year(year):\n",
        "    if year % 100 != 0 and year % 4 == 0 and year % 400 == 0:\n",
        "        return True\n",
        "    else:\n",
        "       return False\n",
        "\n",
        "def day_of_year(day, month, year):\n",
        "    sum_month = 1\n",
        "    if leap_year(year) == True:\n",
        "        days_in_month = [31, 29, 31, 30, 31, 30, 31, 31, 30, 31, 30, 31]\n",
        "        for i in range(month - 1):\n",
        "            sum_month += days_in_month[i]\n",
        "        return(sum_month + day)\n",
        "\n",
        "    if leap_year(year) == False:\n",
        "        days_in_month = [31, 28, 31, 30, 31, 30, 31, 31, 30, 31, 30, 31]\n",
        "        for i in range(month - 1):\n",
        "            sum_month += days_in_month[i]\n",
        "        return(sum_month + day)\n",
        "\n",
        "def day_in_year(year):\n",
        "    return 366 if leap_year(year) else 365\n",
        "\n",
        "def date_diff(date1, date2):\n",
        "    d1,m1,y1 = date1.split(\"-\")\n",
        "    d2,m2,y2 = date2.split(\"-\")\n",
        "    d1,m1,y1 = int(d1),int(m1),int(y1)\n",
        "    d2,m2,y2 = int(d2),int(m2),int(y2)\n",
        "    num1 = day_in_year(y1) - day_of_year(d1, m1, y1) + 2\n",
        "    num2 = day_of_year(d2, m2, y2)\n",
        "    if y2 - y1 > 1:\n",
        "        count = 0\n",
        "        count_for = y2 - y1\n",
        "        for i in range(count_for):\n",
        "            if i == 0:\n",
        "                continue\n",
        "            count += day_in_year(y1 + i)\n",
        "        return(num1 + num2  + count)-1\n",
        "\n",
        "    if y1 == y2:\n",
        "        return num1\n",
        "    else:\n",
        "        return(num1 + num2)\n",
        "\n",
        "# ทดสอบฟังก์ชัน\n",
        "print(date_diff(\"1-1-2018\", \"1-1-2020\"))  # ควรได้ 731\n",
        "print(date_diff(\"25-12-1999\", \"9-3-2000\"))  # ควรได้ 76\n",
        "print(date_diff(\"1-1-2000\", \"1-1-2001\"))  # ควรได้ 367 (ปี 2000 เป็น leap year)\n",
        "print(date_diff(\"1-1-2001\", \"1-1-2002\"))  # ควรได้ 367 (ปี 2001 ไม่ใช่ leap year)\n",
        "print(date_diff(\"1-3-2000\", \"1-3-2001\"))  # ควรได้ 367 (ข้ามปี leap year)\n",
        "print(date_diff(\"1-1-2023\", \"31-12-2023\"))  # ควรได้ 365 (ทั้งปี 2023)\n"
      ],
      "metadata": {
        "id": "dwNIkw0wDRjF",
        "colab": {
          "base_uri": "https://localhost:8080/"
        },
        "outputId": "cd12cbbc-3313-4027-84d3-043a417742d2"
      },
      "execution_count": 2,
      "outputs": [
        {
          "output_type": "stream",
          "name": "stdout",
          "text": [
            "731\n",
            "76\n",
            "367\n",
            "367\n",
            "367\n",
            "365\n"
          ]
        }
      ]
    },
    {
      "cell_type": "markdown",
      "source": [
        "Exercise 5.3 จากโปรแกรม 5.2 ให้เขียนฟังก์ชัน date_diff  เพิ่มเติม โดยให้มีการตรวจสอบ\n",
        "วันที่ต้องเป็นวันที่ถูกต้องของเดือนนั้นๆ\n",
        "เดือนต้องอยู่ระหว่าง 1-12\n",
        "เดือนกุมภาพันธ์ของปีที่มี Leap Year เท่านั้นที่จะมี 29 วันได้\n",
        "หากข้อมูล Input ผิดพลาด ให้ Return -1\n"
      ],
      "metadata": {
        "id": "JU8jQcg4WDoF"
      }
    },
    {
      "cell_type": "code",
      "source": [
        "def leap_year(year):\n",
        "    if year % 100 != 0 and year % 4 == 0 and year % 400 == 0:\n",
        "        return True\n",
        "    else:\n",
        "       return False\n",
        "\n",
        "def day_of_year(day, month, year):\n",
        "    sum_month = 1\n",
        "    if leap_year(year) == True:\n",
        "        days_in_month = [31, 29, 31, 30, 31, 30, 31, 31, 30, 31, 30, 31]\n",
        "        for i in range(month - 1):\n",
        "            sum_month += days_in_month[i]\n",
        "        return(sum_month + day)\n",
        "\n",
        "    if leap_year(year) == False:\n",
        "        days_in_month = [31, 28, 31, 30, 31, 30, 31, 31, 30, 31, 30, 31]\n",
        "        for i in range(month - 1):\n",
        "            sum_month += days_in_month[i]\n",
        "        return(sum_month + day)\n",
        "\n",
        "def day_in_year(year):\n",
        "    return 366 if leap_year(year) else 365\n",
        "\n",
        "def date_diff(date1, date2):\n",
        "    try:\n",
        "        d1,m1,y1 = date1.split(\"-\")\n",
        "        d2,m2,y2 = date2.split(\"-\")\n",
        "        d1,m1,y1 = int(d1),int(m1),int(y1)\n",
        "        d2,m2,y2 = int(d2),int(m2),int(y2)\n",
        "    except ValueError:\n",
        "        return -1\n",
        "    num1 = day_in_year(y1) - day_of_year(d1, m1, y1) + 2\n",
        "    num2 = day_of_year(d2, m2, y2)\n",
        "    if (m1 or m2) > 12:\n",
        "        return(-1)\n",
        "    if (d1 or d2) == 31 and (m1 or m2) == (4 or 6 and 9 and 11):\n",
        "        return(-1)\n",
        "\n",
        "    if day_in_year(y1 or y2):\n",
        "        if d1 == 29 and m1 == 2:\n",
        "            return(-1)\n",
        "\n",
        "    if y2 - y1 > 1:\n",
        "        count = 0\n",
        "        count_for = y2 - y1\n",
        "        for i in range(count_for):\n",
        "            if i == 0:\n",
        "                continue\n",
        "            count += day_in_year(y1 + i)\n",
        "        return(num1 + num2  + count)-1\n",
        "\n",
        "    if y1 == y2:\n",
        "        return num1\n",
        "    else:\n",
        "        return(num1 + num2)\n",
        "\n",
        "# ทดสอบฟังก์ชัน\n",
        "print(date_diff(\"1-1-2018\", \"1-1-2020\"))  # ควรได้ 731\n",
        "print(date_diff(\"25-12-1999\", \"9-3-2000\"))  # ควรได้ 76\n",
        "print(date_diff(\"1-1-2000\", \"1-1-2001\"))  # ควรได้ 367 (ปี 2000 เป็น leap year)\n",
        "print(date_diff(\"1-1-2001\", \"1-1-2002\"))  # ควรได้ 367 (ปี 2001 ไม่ใช่ leap year)\n",
        "print(date_diff(\"1-3-2000\", \"1-3-2001\"))  # ควรได้ 367 (ข้ามปี leap year)\n",
        "print(date_diff(\"1-1-2023\", \"31-12-2023\"))  # ควรได้ 365 (ทั้งปี 2023)\n",
        "\n",
        "print(date_diff(\"31-4-2023\", \"1-5-2023\"))  # ควรได้ -1 (เดือนเมษายนมี 30 วัน)\n",
        "print(date_diff(\"29-2-2023\", \"1-3-2023\"))  # ควรได้ -1 (ปี 2023 ไม่ใช่ leap year)\n",
        "print(date_diff(\"1-13-2023\", \"1-1-2024\"))  # ควรได้ -1 (เดือนไม่ถูกต้อง)\n",
        "print(date_diff(\"abc\", \"1-1-2024\"))  # ควรได้ -1 (รูปแบบวันที่ไม่ถูกต้อง)"
      ],
      "metadata": {
        "id": "OgqrXbFVWEML"
      },
      "execution_count": null,
      "outputs": []
    },
    {
      "cell_type": "markdown",
      "source": [
        "1.\tปลาหมอคางดำเพศเมีย 1 ตัว เมื่ออายุครบ 2 เดือน จะสามารถสืบพันธ์ได้ โดยระยะเวลาตั้งท้องจนถึง\n",
        "วางไข่ของตัวเมียจะใช้เวลา 21 วัน และฟักในปากเพศผู้อีก 7 วัน (สามารถรวมเป็น 1 เดือนได้) โดยออกไข่ครั้งละ 300 ฟอง กำหนดให้ไข่ฟักเป็นเพศผู้และเพศเมียอย่างละครึ่ง และเมื่อวางไข่แล้วจะสามารถสืบพันธ์ต่อได้ทันที กำหนดให้ปลามีอายุ 5 ปี และปลาทั้งหมดจะตาย p% ทุก 1 เดือน จงหาว่าปลาหมอคางดำหลุดจากฟาร์ม n ตัวเป็นเพศผู้และเพศเมียอย่างละครึ่ง จงเขียนโปรแกรมรับค่า n และ p ให้แสดงผลจำนวนปลาทุก 3 เดือน เป็นเวลา 10 ปี ให้เขียนเป็นฟังก์ชัน ชื่อ simulate_fish_population()\n"
      ],
      "metadata": {
        "id": "tdBCjJzeWb2c"
      }
    },
    {
      "cell_type": "code",
      "execution_count": null,
      "metadata": {
        "id": "JmvNmVQh4C9X"
      },
      "outputs": [],
      "source": [
        "def simulate_fish_population(n, p, month = 40):\n",
        "    DEADTIME = 5 * 12\n",
        "    fish_count_history = []\n",
        "    month_count = 0\n",
        "    egg_fish = 0\n",
        "    baby_fish = 0\n",
        "    adult_fish = 0\n",
        "\n",
        "    n = n\n",
        "\n",
        "    for month in range(1, month + 1):\n",
        "        if month_count >= DEADTIME and fish_count_history:\n",
        "            n -= fish_count_history.pop(0)\n",
        "        egg_fish = (n / 2) * 300\n",
        "        fish_count_history.append(n)\n",
        "        baby_fish += egg_fish * (1 - p / 100)\n",
        "        egg_fish -= (n / 2) * 300\n",
        "        adult_fish = baby_fish * (1 - p / 100)\n",
        "        display_month = month * 3\n",
        "        if display_month % 3 == 0:\n",
        "            print(f'เดือนที่ {display_month} : ไข่ปลา : {int(egg_fish + (n / 2) * 300)} ใบ  ลูกปลา : {int(baby_fish)} ตัว  ปลาเต็มวัย : {int(adult_fish)} ตัว  รวมทั้งหมด : {int(baby_fish + adult_fish + n)} ตัว')\n",
        "\n",
        "        adult_fish += n\n",
        "        n = adult_fish\n",
        "\n",
        "        fish_count_history.append(n)\n",
        "\n",
        "        month_count += 1\n",
        "\n",
        "    return egg_fish, baby_fish, adult_fish\n",
        "\n",
        "month = 40\n",
        "n = 2\n",
        "p = 10\n",
        "\n",
        "egg_fish, baby_fish, adult_fish = simulate_fish_population(n, p, month)\n"
      ]
    },
    {
      "cell_type": "markdown",
      "source": [
        "2.\tให้เขียน function find_mismatch ซึ่งรับ string มา 2 ค่า โดยจะส่งค่ากลับดังนี้\n",
        "- 0 เมื่อ string ทั้ง 2 ตัว เหมือนกัน โดยไม่สนใจ case\n",
        "- 1 เมื่อ string 1 จะเหมือน string 2 โดยการลบและ/หรือเพิ่มตัวอักษรเพียง 1 ตัว\n",
        "- 2 เมื่อ string ไม่เข้าเกณฑ์ 0 หรือ 1\n",
        "\n",
        "\n",
        "| String  1| \tString2\t|ผลลัพธ์|\n",
        "|----------|----------|------|\n",
        "|Python|\tJava\t|2|\n",
        "|book\t |  boot\t|1|\n",
        "|fan\t |  fun\t  |1|\n",
        "|sin\t | sink\t  |1 เพราะเพิ่ม k ใน str2 แล้วจะเหมือนกัน\n",
        "|Dog\t | dog\t  |0\n",
        "|poke\t | spoke\t|1 เพิ่ม s ใน str2 แล้วเหมือนกัน\n",
        "|poker |\tpoke\t|1 ตัด r ใน str1 ออกแล้วเหมือนกัน\n",
        "\n",
        "\n",
        "\n",
        "\n"
      ],
      "metadata": {
        "id": "F0_ZEPOYbDKf"
      }
    },
    {
      "cell_type": "code",
      "source": [
        "def find_mismatch(str1, str2):\n",
        "    i,j = 0,0\n",
        "    count = 1\n",
        "    str1, str2 = str1.lower(), str2.lower()\n",
        "\n",
        "    if str1 == str2:\n",
        "        return 0\n",
        "    elif abs(len(str1) - len(str2)) >= 2:\n",
        "        return 2\n",
        "\n",
        "    while (i < len(str1)) and (j < len(str2)):\n",
        "\n",
        "        if str1[i] != str2[j]:\n",
        "\n",
        "            if count == 0:\n",
        "                return 2\n",
        "            else:\n",
        "                count -= 1\n",
        "\n",
        "            if len(str1) > len(str2):\n",
        "                i += 1\n",
        "            elif len(str1) < len(str2):\n",
        "                j += 1\n",
        "            else:\n",
        "                i += 1\n",
        "                j += 1\n",
        "        else:\n",
        "            i += 1\n",
        "            j += 1\n",
        "    return 1\n",
        "\n",
        "print(find_mismatch(\"Python\", \"Java\"))\n",
        "print(find_mismatch(\"book\", \"boot\"))\n",
        "print(find_mismatch(\"fan\", \"fun\"))\n",
        "print(find_mismatch(\"sin\", \"sink\"))\n",
        "print(find_mismatch(\"Dog\", \"dog\"))\n",
        "print(find_mismatch(\"poke\", \"spoke\"))\n",
        "print(find_mismatch(\"poker\", \"poke\"))\n"
      ],
      "metadata": {
        "id": "jyVxAb-MXnz2",
        "colab": {
          "base_uri": "https://localhost:8080/"
        },
        "outputId": "0bd24336-0229-44cb-cf24-40b88b47d114"
      },
      "execution_count": 3,
      "outputs": [
        {
          "output_type": "stream",
          "name": "stdout",
          "text": [
            "2\n",
            "1\n",
            "1\n",
            "1\n",
            "0\n",
            "1\n",
            "1\n"
          ]
        }
      ]
    },
    {
      "cell_type": "markdown",
      "source": [
        "3.\tจากข้อ 1 ให้เขียนฟังก์ชันชื่อ spelling_correction โดยรับ 2 argument ตัวแรกเป็นประโยค (string) และตัวที่ 2 เป็น list ของคำ (correct_spells) โดยฟังก์ชันนี้มีหน้าที่ตรวจสอบแต่ละ word ใน input string กับคำที่อยู่ใน correct_spells โดยค่าที่คืนกลับมาจะมีดังนี้ (พยายามเรียกใช้ฟังก์ชันในข้อ 1)\n",
        "-\tถ้าคำที่อยู่ในประโยค ตรงกับคำที่อยู่ใน correct_spells ทุกอย่าง ก็จะ copy ไปที่ output string\n",
        "-\tถ้าคำที่อยู่ในประโยค ต่างจากคำที่อยู่ใน correct_spells โดยต่างกัน 1 ตัวอักษร โดยการเปลี่ยน การเพิ่ม หรือการลบ 1 ตัวอักษร คำที่อยู่ในประโยคจะถูกเปลี่ยนโดยคำที่อยู่ใน correct_spells และนำไปใส่ output string\n",
        "-\tถ้าคำที่ไม่พบในเงื่อนไขข้างต้นให้นำคำนั้นไปใส่ output string ได้เลย\n",
        "-\tคำที่ประกอบด้วย 1 หรือ 2 ตัวอักษรจะไม่ตรวจสอบ ให้นำคำนั้นไปใส่ output string ได้เลย\n",
        "-\tถ้ามี 2 คำใน correct_spells ที่ตรงตามเงื่อนไข ให้ใช้คำแรก\n",
        "-\tไม่สนใจตัวใหญ่ ตัวเล็ก\n",
        "-\tInput string จะมีได้เพียงอักษรภาษาอังกฤษเท่านั้น\n",
        "-\tในแต่ละคำจะคั่นด้วย 1 space ถ้ามี space มากกว่านั้นให้ตัดออก และตัด space จากหัวท้ายประโยค\n",
        "\n",
        "|ประโยค\t|correct_spells\t|output string |\n",
        "|-------|---------------|-------------|\n",
        "|Thes is the Firs cas\t|[‘that’,’first’,’case’,’car’]|\tthes is the first car|\n",
        "|programming is fan and easy\t|[‘programming’,’this’,’fun’,’easy’,book’]\t|programming is fun and easy|\n",
        "|Thes is vary essy\t|[‘this’,’is’,’very’,’easy’]\t|this is very easy|\n",
        "|Wee ipve Pythen\t|[‘we’,’live’,’ln’,’Python’]\t|we live python|\n",
        "\n",
        "\n"
      ],
      "metadata": {
        "id": "jzXp83HSbMh9"
      }
    },
    {
      "cell_type": "code",
      "source": [
        "def find_mismatch(str1, str2):\n",
        "    i,j = 0,0\n",
        "    count = 1\n",
        "    str1, str2 = str1.lower(), str2.lower()\n",
        "\n",
        "    if str1 == str2:\n",
        "        return 0\n",
        "    elif abs(len(str1) - len(str2)) >= 2:\n",
        "        return 2\n",
        "\n",
        "    while (i < len(str1)) and (j < len(str2)):\n",
        "\n",
        "        if str1[i] != str2[j]:\n",
        "\n",
        "            if count == 0:\n",
        "                return 2\n",
        "            else:\n",
        "                count -= 1\n",
        "\n",
        "            if len(str1) > len(str2):\n",
        "                i += 1\n",
        "            elif len(str1) < len(str2):\n",
        "                j += 1\n",
        "            else:\n",
        "                i += 1\n",
        "                j += 1\n",
        "        else:\n",
        "            i += 1\n",
        "            j += 1\n",
        "    return 1\n",
        "\n",
        "def spelling_correction(input_string, correct_spells):\n",
        "    output = \"\"\n",
        "    words = input_string.split()\n",
        "\n",
        "    for word in words:\n",
        "        if len(word) <= 2:\n",
        "            output += word + \" \"\n",
        "        else:\n",
        "            _min = 3\n",
        "            most_similar_word = \"\"\n",
        "            for e in correct_spells:\n",
        "                result = find_mismatch(word, e)\n",
        "                if result < _min:\n",
        "                    _min = result\n",
        "                    most_similar_word = e\n",
        "            if _min == 1:\n",
        "                output += most_similar_word.lower() + \" \"\n",
        "            else:\n",
        "                output += word.lower() + \" \"\n",
        "\n",
        "    return output[:-1]\n",
        "\n",
        "correct_spells = [\"that\", \"first\", \"case\", \"car\"]\n",
        "input_string = \"Thes is the Firs cas\"\n",
        "output_string = spelling_correction(input_string, correct_spells)\n",
        "print(output_string)\n",
        "\n",
        "# correct_spells = [\"we\", \"live\", \"ln\", \"Python\"]\n",
        "# input_string = \"Wee lpve Pythen\"\n",
        "# output_string = spelling_correction(input_string, correct_spells)\n",
        "# print(output_string)\n"
      ],
      "metadata": {
        "id": "4NW0Y1hXpfCt"
      },
      "execution_count": null,
      "outputs": []
    },
    {
      "cell_type": "markdown",
      "source": [
        "4. ให้เขียนฟังก์ชัน find_word_horizontal ซึ่งจะรับ list ขนาด 2 มิติ ของตัวอักษร (คล้ายกับเกม cross word) และ word ซึ่งเป็น string เป็น argument โดยฟังก์ชันนี้ จะค้นหาตามแถวของ list เพื่อหาตำแหน่งที่มีอักษรตรงกับคำใน word ถ้าพบ จะส่งคืน row index และ column index ของตัวอักษรแรก ถ้าไม่พบจะส่งคืน None\n",
        "\n",
        "```\n",
        "crosswords=[['s','d','o','g'],\n",
        "            ['c','u','c','m'],\n",
        "            ['a','c','a','t'],\n",
        "            ['t',' e','t','k']]\n",
        "\tword='cat'\n",
        "\tfind_word_horizontal(crosswords,word)\n",
        "```\n",
        "\n",
        "Output\n",
        "   [2,1]\n"
      ],
      "metadata": {
        "id": "sshYZJYZpfua"
      }
    },
    {
      "cell_type": "code",
      "source": [
        "def find_word_horizontal(crosswords, word):\n",
        "    for index, row in enumerate(crosswords):\n",
        "        str_row = ''.join(row)\n",
        "        if word in str_row:\n",
        "            new_word = str_row.index(word)\n",
        "            return [index , new_word]\n",
        "    return None\n",
        "\n",
        "crosswords=[['s','d','o','g'],\n",
        "            ['c','u','c','m'],\n",
        "            ['a','c','a','t'],\n",
        "            ['t',' e','t','k']]\n",
        "word = 'cat'\n",
        "print(find_word_horizontal(crosswords, word))"
      ],
      "metadata": {
        "id": "2z0nonPMqZ_Q"
      },
      "execution_count": null,
      "outputs": []
    },
    {
      "cell_type": "markdown",
      "source": [
        "5. ให้เขียนฟังก์ชัน find_word_vertical ซึ่งจะรับ list ขนาด 2 มิติ ของตัวอักษร (คล้ายกับเกม cross word) และ word ซึ่งเป็น string เป็น argument โดยฟังก์ชันนี้ จะค้นหาตามคอลัมน์ของ list เพื่อหาตำแหน่งที่มีอักษรตรงกับคำใน word ถ้าพบ จะส่งคืน row index และ column index ของตัวอักษรแรก ถ้าไม่พบจะส่งคืน None\n",
        "\n",
        "ตัวอย่าง\n",
        "```\n",
        "\tcrosswords=[['s','d','o','g'],\n",
        "              ['c','u','c','m'],\n",
        "              ['a','c','a','t'],\n",
        "              ['t',' e','t','k']]\n",
        "\tword='cat'\n",
        "\tfind_word_vertical(crosswords,word)\n",
        "```\n",
        "\n",
        "Output\n",
        "   [1,0]\n"
      ],
      "metadata": {
        "id": "sDhGHMPsqr6a"
      }
    },
    {
      "cell_type": "code",
      "source": [
        "def find_word_vertical(crosswords,word):\n",
        "    for index , col in enumerate(zip(*crosswords)):\n",
        "        str_col = ''.join(col)\n",
        "        if word in str_col:\n",
        "            new_word = str_col.index(word)\n",
        "            return[new_word,index]\n",
        "    return None\n",
        "crosswords = [['s','d','o','g'],\n",
        "             ['c','u','c','m'],\n",
        "             ['a','c','a','t'],\n",
        "             ['t',' e','t','k']]\n",
        "word='cat'\n",
        "print(find_word_vertical(crosswords,word))\n"
      ],
      "metadata": {
        "id": "R5Jp1CkQrEz9"
      },
      "execution_count": null,
      "outputs": []
    },
    {
      "cell_type": "markdown",
      "source": [
        "6.\tให้เขียนฟังก์ชัน capitalize_word_in_crossword จะรับ list ขนาด 2 มิติ ของตัวอักษร (คล้ายกับเกม cross word) และ word ซึ่งเป็น string เป็น argument โดยฟังก์ชันนี้ จะค้นหาตาม row และ column ของ list เพื่อหาตำแหน่งที่มีอักษรตรงกับคำใน word ถ้าพบจะเปลี่ยนเป็นตัวใหญ่และ และส่งคืน list ที่แก้ไขแล้ว แต่ถ้าไม่เจอจะส่ง list เดิมกลับมา ให้ใช้ฟังก์ชันตามข้อ 3 และ 4 ช่วย\n",
        "\n",
        "```\n",
        "crosswords=[['s','d','o','g'],\n",
        "            ['c','u','c','m'],\n",
        "            ['a','x','a','t'],\n",
        "            ['t','e','t','k']]\n",
        "word='cat'\n",
        "capitalize_word_in_crossword(crosswords,word)\n",
        "```\n",
        "จะส่งค่ากลับ\n",
        "```\n",
        " [['s','d','o','g'],\n",
        "  ['C','u','c','m'],\n",
        "  ['A','x','a','t'],\n",
        "  ['T','e','t','k']]\n",
        "```\n",
        "```\n",
        "crosswords=[['s','d','o','g'],\n",
        "            ['c','u','c','m'],\n",
        "            ['a','c','a','t'],\n",
        "            ['t','e','t','k']]\n",
        "word='cat'\n",
        "capitalize_word_in_crossword(crosswords,word)\n",
        "จะส่งค่ากลับ                   \n",
        "[['s','d','o','g'],\n",
        " ['c','u','c','m'],\n",
        " ['a','C','A','T'],\n",
        " ['t','e','t','k']]\n",
        "```\n",
        "\n",
        "\n"
      ],
      "metadata": {
        "id": "dinoUBQTrDFp"
      }
    },
    {
      "cell_type": "code",
      "source": [
        "def find_word_vertical(crosswords,word):\n",
        "    for index , col in enumerate(zip(*crosswords)):\n",
        "        str_col = ''.join(col)\n",
        "        if word in str_col:\n",
        "            new_word = str_col.index(word)\n",
        "            return[new_word,index]\n",
        "    return None\n",
        "\n",
        "def find_word_horizontal(crosswords, word):\n",
        "\n",
        "    for index, row in enumerate(crosswords):\n",
        "        str_row = ''.join(row)\n",
        "        if word in str_row:\n",
        "            new_word = str_row.index(word)\n",
        "            return [index , new_word]\n",
        "    return None\n",
        "\n",
        "def capitalize_word_in_crossword(crosswords,word):\n",
        "    vertical = find_word_vertical(crosswords,word)\n",
        "    horizontal = find_word_horizontal(crosswords,word)\n",
        "    if (vertical is None) and (horizontal is None) :\n",
        "        return crosswords\n",
        "    if (vertical is not None) and (horizontal is not None):\n",
        "        vertical = None\n",
        "\n",
        "    modi_output = [row[:] for row in crosswords]\n",
        "\n",
        "    if (vertical is not None) :\n",
        "        row_idx , col_idx = vertical\n",
        "        for i in range(len(word)):\n",
        "            modi_output[row_idx+i][col_idx] = modi_output[row_idx+i][col_idx].upper()\n",
        "    if (horizontal is not None):\n",
        "        row_idx,col_idx= horizontal\n",
        "        for i in range(len(word)):\n",
        "            modi_output[row_idx][col_idx+i] = modi_output[row_idx][col_idx+i].upper()\n",
        "\n",
        "    return modi_output\n",
        "\n",
        "crosswords=[['s','d','o','g'],['c','u','c','m'],['a','c','a','t'],['t','e','t','k']]\n",
        "word='cat'\n",
        "\n",
        "for row in capitalize_word_in_crossword(crosswords,word):\n",
        "  print(row)\n"
      ],
      "metadata": {
        "id": "IM99mZNs0css",
        "colab": {
          "base_uri": "https://localhost:8080/"
        },
        "outputId": "2e65e25a-ec1f-4a16-ba1a-f1efde0cdc6e"
      },
      "execution_count": 4,
      "outputs": [
        {
          "output_type": "stream",
          "name": "stdout",
          "text": [
            "['s', 'd', 'o', 'g']\n",
            "['c', 'u', 'c', 'm']\n",
            "['a', 'C', 'A', 'T']\n",
            "['t', 'e', 't', 'k']\n"
          ]
        }
      ]
    }
  ]
}